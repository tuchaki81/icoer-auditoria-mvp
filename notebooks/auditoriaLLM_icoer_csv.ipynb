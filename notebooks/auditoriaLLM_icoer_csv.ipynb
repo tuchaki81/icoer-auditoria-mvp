
# Auditoria de Coerência com ICOER
Este notebook permite:
- Carregar um arquivo CSV com frases e valores de ICOER.
- Calcular o limiar automático de incoerência.
- Classificar as frases como "OK" ou "INCOERENTE".

---

## 🔽 1. Upload do Arquivo CSV

Execute a célula abaixo para fazer upload do seu arquivo `.csv`.

```python
from google.colab import files
uploaded = files.upload()
```

---

## 📊 2. Leitura do CSV e Visualização

```python
import pandas as pd

df = pd.read_csv(list(uploaded.keys())[0])
df.head()
```

⚠️ O CSV deve conter pelo menos as colunas:
- `Frase`
- `ICOER_Modelo` (ou outro nome equivalente, como `icoer`)

---

## 🧠 3. Função de Auditoria de Coerência

```python
import numpy as np

def analisar_coerencia_icoer(frases, icoer_valores, nome_modelo="Modelo"):
    media = np.mean(icoer_valores)
    desvio = np.std(icoer_valores)
    limiar = media + desvio

    resultados = []
    for i, frase in enumerate(frases):
        status = "INCOERENTE" if icoer_valores[i] > limiar else "OK"
        resultados.append({
            "Frase": frase,
            f"ICOER_{nome_modelo}": icoer_valores[i],
            f"Status_{nome_modelo}": status
        })

    return pd.DataFrame(resultados), limiar
```

---

## ✅ 4. Aplicação à Tabela

Altere o nome da coluna conforme o seu CSV:

```python
coluna_frase = "Frase"
coluna_icoer = "ICOER_Modelo"

df_resultado, limiar = analisar_coerencia_icoer(df[coluna_frase].tolist(),
                                                 df[coluna_icoer].tolist(),
                                                 nome_modelo="LLM")

print("Limiar de incoerência calculado:", limiar)
df_resultado.head()
```

---

## 💾 5. Exportar Resultados

```python
df_resultado.to_csv("resultado_auditoria.csv", index=False)
files.download("resultado_auditoria.csv")
```

---

Pronto! Agora você pode usar esse notebook para auditar coerência informacional em qualquer CSV com ICOER.
