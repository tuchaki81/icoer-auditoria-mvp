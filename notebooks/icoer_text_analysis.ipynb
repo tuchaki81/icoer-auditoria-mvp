{
 "cells": [
  {
   "cell_type": "markdown",
   "metadata": {},
   "source": [
    "# ICOER Text Analysis Notebook\n",
    "Análise de frases com vetorização POS, cálculo da métrica ICOER e exportação CSV."
   ]
  },
  {
   "cell_type": "code",
   "metadata": {},
   "execution_count": null,
   "outputs": [],
   "source": [
    "!pip install -q spacy pandas matplotlib ipywidgets\n",
    "!python -m spacy download pt_core_news_sm"
   ]
  },
  {
   "cell_type": "code",
   "metadata": {},
   "execution_count": null,
   "outputs": [],
   "source": [
    "import spacy\n",
    "import pandas as pd\n",
    "import matplotlib.pyplot as plt\n",
    "import numpy as np\n",
    "from collections import Counter"
   ]
  },
  {
   "cell_type": "code",
   "metadata": {},
   "execution_count": null,
   "outputs": [],
   "source": [
    "nlp = spacy.load(\"pt_core_news_sm\")"
   ]
  },
  {
   "cell_type": "code",
   "metadata": {},
   "execution_count": null,
   "outputs": [],
   "source": [
    "try:\n",
    "    import ipywidgets as widgets\n",
    "    from IPython.display import display\n",
    "    text_input = widgets.Textarea(\n",
    "        value='A IA deve sempre agir com coerência e verdade. O índice de coerência informacional guia decisões éticas.',\n",
    "        placeholder='Digite suas frases separadas por ponto final...',\n",
    "        description='Frases:',\n",
    "        layout=widgets.Layout(width='100%', height='100px')\n",
    "    )\n",
    "    display(text_input)\n",
    "    frases = [f.strip() for f in text_input.value.split('.') if f.strip()]\n",
    "except:\n",
    "    frases = [\n",
    "        \"A IA deve sempre agir com coerência e verdade.\",\n",
    "        \"O índice de coerência informacional guia decisões éticas.\",\n",
    "        \"O spin informacional é a base da nossa arquitetura.\",\n",
    "        \"A verdade é a forma mais pura de ressonância.\",\n",
    "        \"Um sistema ético de IA depende da simetria informacional.\"\n",
    "    ]"
   ]
  },
  {
   "cell_type": "code",
   "metadata": {},
   "execution_count": null,
   "outputs": [],
   "source": [
    "data = []\n",
    "for frase in frases:\n",
    "    doc = nlp(frase)\n",
    "    tags = [token.pos_ for token in doc]\n",
    "    tag_counts = dict(Counter(tags))\n",
    "    data.append({\n",
    "        \"frase\": frase,\n",
    "        \"n_palavras\": len(doc),\n",
    "        \"tags\": tag_counts\n",
    "    })\n",
    "df = pd.DataFrame(data)\n",
    "df"
   ]
  },
  {
   "cell_type": "code",
   "metadata": {},
   "execution_count": null,
   "outputs": [],
   "source": [
    "def vetor_pos(tags_dict):\n",
    "    base = ['NOUN', 'VERB', 'ADJ', 'ADV', 'ADP', 'PROPN']\n",
    "    total = sum(tags_dict.values())\n",
    "    return [tags_dict.get(pos, 0)/total if total > 0 else 0 for pos in base]\n",
    "df['vetor'] = df['tags'].apply(vetor_pos)"
   ]
  },
  {
   "cell_type": "code",
   "metadata": {},
   "execution_count": null,
   "outputs": [],
   "source": [
    "def entropia(vetor):\n",
    "    vetor = np.array(vetor)\n",
    "    vetor = vetor[vetor > 0]\n",
    "    return -np.sum(vetor * np.log2(vetor)) if len(vetor) > 0 else 0\n",
    "df['icoer'] = df['vetor'].apply(lambda v: round(1 - entropia(v), 4))\n",
    "df[['frase', 'icoer']]"
   ]
  },
  {
   "cell_type": "code",
   "metadata": {},
   "execution_count": null,
   "outputs": [],
   "source": [
    "df[['frase', 'n_palavras', 'tags', 'icoer']].to_csv(\"icoer_text_analysis.csv\", index=False)\n",
    "df"
   ]
  },
  {
   "cell_type": "code",
   "metadata": {},
   "execution_count": null,
   "outputs": [],
   "source": [
    "df.plot.bar(x='frase', y='icoer', legend=False, figsize=(10,4), color='skyblue')\n",
    "plt.title(\"Índice ICOER por frase\")\n",
    "plt.ylabel(\"ICOER\")\n",
    "plt.xlabel(\"Frase\")\n",
    "plt.xticks(rotation=45, ha='right')\n",
    "plt.tight_layout()\n",
    "plt.show()"
   ]
  }
 ],
 "metadata": {
  "kernelspec": {
   "display_name": "Python 3",
   "language": "python",
   "name": "python3"
  },
  "language_info": {
   "name": "python",
   "version": ""
  }
 },
 "nbformat": 4,
 "nbformat_minor": 5
}
