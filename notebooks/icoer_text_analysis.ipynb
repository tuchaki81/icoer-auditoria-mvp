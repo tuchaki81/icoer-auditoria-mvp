{
 "cells": [
  {
   "cell_type": "markdown",
   "id": "35511919",
   "metadata": {},
   "source": [
    "# ICOER Text Analysis Notebook\n",
    "Análise com pesos semânticos e correção de viés estatístico."
   ]
  },
  {
   "cell_type": "code",
   "execution_count": null,
   "id": "b3daf24e",
   "metadata": {},
   "outputs": [],
   "source": [
    "!pip install -q spacy pandas matplotlib ipywidgets\n",
    "!python -m spacy download pt_core_news_sm"
   ]
  },
  {
   "cell_type": "code",
   "execution_count": null,
   "id": "39a0f19a",
   "metadata": {},
   "outputs": [],
   "source": [
    "import spacy\n",
    "import pandas as pd\n",
    "import numpy as np\n",
    "import matplotlib.pyplot as plt\n",
    "import ipywidgets as widgets\n",
    "from IPython.display import display\n",
    "from collections import Counter"
   ]
  },
  {
   "cell_type": "code",
   "execution_count": null,
   "id": "d468658e",
   "metadata": {},
   "outputs": [],
   "source": [
    "nlp = spacy.load('pt_core_news_sm')"
   ]
  },
  {
   "cell_type": "code",
   "execution_count": null,
   "id": "15e2ccd9",
   "metadata": {},
   "outputs": [],
   "source": [
    "text_input = widgets.Textarea(\n",
    "    value='A IA deve sempre agir com coerência e verdade.',\n",
    "    placeholder='Digite suas frases separadas por ponto final...',\n",
    "    description='Frases:',\n",
    "    layout=widgets.Layout(width='100%', height='100px')\n",
    ")\n",
    "display(text_input)"
   ]
  },
  {
   "cell_type": "code",
   "execution_count": null,
   "id": "ad698197",
   "metadata": {},
   "outputs": [],
   "source": [
    "# Separar frases com base em ponto final\n",
    "frases = [f.strip() for f in text_input.value.split('.') if f.strip()]\n",
    "frases"
   ]
  },
  {
   "cell_type": "code",
   "execution_count": null,
   "id": "9647bdd0",
   "metadata": {},
   "outputs": [],
   "source": [
    "# Análise POS\n",
    "data = []\n",
    "for frase in frases:\n",
    "    doc = nlp(frase)\n",
    "    tags = [token.pos_ for token in doc]\n",
    "    tag_counts = dict(Counter(tags))\n",
    "    data.append({\n",
    "        'frase': frase,\n",
    "        'n_palavras': len(doc),\n",
    "        'tags': tag_counts\n",
    "    })\n",
    "df = pd.DataFrame(data)"
   ]
  },
  {
   "cell_type": "code",
   "execution_count": null,
   "id": "649ba155",
   "metadata": {},
   "outputs": [],
   "source": [
    "# Vetorização com pesos\n",
    "pesos = {'NOUN': 1.0, 'VERB': 1.0, 'ADJ': 0.9, 'ADV': 0.8, 'ADP': 0.5, 'PROPN': 0.9}\n",
    "base = list(pesos.keys())\n",
    "\n",
    "def vetor_pos_ponderado(tags_dict):\n",
    "    total = sum(tags_dict.get(pos, 0) * pesos[pos] for pos in base)\n",
    "    return [tags_dict.get(pos, 0) * pesos[pos] / total if total > 0 else 0 for pos in base]\n",
    "\n",
    "df['vetor'] = df['tags'].apply(vetor_pos_ponderado)"
   ]
  },
  {
   "cell_type": "code",
   "execution_count": null,
   "id": "0e37913e",
   "metadata": {},
   "outputs": [],
   "source": [
    "# Entropia normalizada e ICOER original\n",
    "def entropia_normalizada(v):\n",
    "    v = np.array(v)\n",
    "    v = v[v > 0]\n",
    "    ent = -np.sum(v * np.log2(v)) if len(v) > 0 else 0\n",
    "    ent_max = np.log2(len(v)) if len(v) > 0 else 1\n",
    "    return ent / ent_max if ent_max > 0 else 0\n",
    "\n",
    "df['icoer'] = df['vetor'].apply(lambda v: round(1 - entropia_normalizada(v), 4))"
   ]
  },
  {
   "cell_type": "code",
   "execution_count": null,
   "id": "7139a47c",
   "metadata": {},
   "outputs": [],
   "source": [
    "# Correção de viés por regressão linear\n",
    "from sklearn.linear_model import LinearRegression\n",
    "X = df[['n_palavras']]\n",
    "y = df['icoer']\n",
    "model = LinearRegression().fit(X, y)\n",
    "df['icoer_corrigido'] = (y - model.predict(X)).round(4)"
   ]
  },
  {
   "cell_type": "code",
   "execution_count": null,
   "id": "98089b04",
   "metadata": {},
   "outputs": [],
   "source": [
    "# Adicionar linha de média geral\n",
    "media_corr = df['icoer_corrigido'].mean().round(4)\n",
    "linha = {\n",
    "    'frase': 'MÉDIA GERAL',\n",
    "    'n_palavras': df['n_palavras'].mean().round(2),\n",
    "    'tags': {},\n",
    "    'vetor': [],\n",
    "    'icoer': df['icoer'].mean().round(4),\n",
    "    'icoer_corrigido': media_corr\n",
    "}\n",
    "df.loc[len(df)] = linha\n",
    "df"
   ]
  },
  {
   "cell_type": "code",
   "execution_count": null,
   "id": "8dd2d863",
   "metadata": {},
   "outputs": [],
   "source": [
    "# Exportar CSV\n",
    "df.to_csv('icoer_completo_corrigido.csv', index=False)\n",
    "df[['frase', 'icoer_corrigido']]"
   ]
  }
 ],
 "metadata": {},
 "nbformat": 4,
 "nbformat_minor": 5
}
