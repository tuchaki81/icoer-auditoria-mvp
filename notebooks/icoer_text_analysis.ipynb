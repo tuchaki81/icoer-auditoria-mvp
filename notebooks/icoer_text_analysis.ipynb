{
 "cells": [
  {
   "cell_type": "code",
   "execution_count": null,
   "id": "62415373",
   "metadata": {},
   "outputs": [],
   "source": [
    "!pip install -q spacy pandas matplotlib ipywidgets\n",
    "!python -m spacy download pt_core_news_sm"
   ]
  },
  {
   "cell_type": "code",
   "execution_count": null,
   "id": "b8a9c6a4",
   "metadata": {},
   "outputs": [],
   "source": [
    "import spacy\n",
    "import pandas as pd\n",
    "import matplotlib.pyplot as plt\n",
    "import numpy as np\n",
    "from collections import Counter\n",
    "import ipywidgets as widgets\n",
    "from IPython.display import display"
   ]
  },
  {
   "cell_type": "code",
   "execution_count": null,
   "id": "1e34972a",
   "metadata": {},
   "outputs": [],
   "source": [
    "nlp = spacy.load(\"pt_core_news_sm\")"
   ]
  },
  {
   "cell_type": "code",
   "execution_count": null,
   "id": "e0f78b8b",
   "metadata": {},
   "outputs": [],
   "source": [
    "text_input = widgets.Textarea(\n",
    "    value='A IA deve agir com coerência e verdade.\\nA verdade é a forma mais pura de ressonância.\\nO índice de coerência informacional orienta decisões éticas.',\n",
    "    placeholder='Digite suas frases, uma por linha...',\n",
    "    description='Frases:',\n",
    "    layout=widgets.Layout(width='100%', height='150px')\n",
    ")\n",
    "display(text_input)"
   ]
  },
  {
   "cell_type": "code",
   "execution_count": null,
   "id": "c1be0d9b",
   "metadata": {},
   "outputs": [],
   "source": [
    "frases = [f.strip() for f in text_input.value.split('\\n') if f.strip()]"
   ]
  },
  {
   "cell_type": "code",
   "execution_count": null,
   "id": "1d76f337",
   "metadata": {},
   "outputs": [],
   "source": [
    "data = []\n",
    "for frase in frases:\n",
    "    doc = nlp(frase)\n",
    "    tags = [token.pos_ for token in doc]\n",
    "    tag_counts = dict(Counter(tags))\n",
    "    data.append({\n",
    "        \"frase\": frase,\n",
    "        \"n_palavras\": len(doc),\n",
    "        \"tags\": tag_counts\n",
    "    })\n",
    "df = pd.DataFrame(data)"
   ]
  },
  {
   "cell_type": "code",
   "execution_count": null,
   "id": "1f295437",
   "metadata": {},
   "outputs": [],
   "source": [
    "def vetor_pos(tags_dict):\n",
    "    base = ['NOUN', 'VERB', 'ADJ', 'ADV', 'ADP', 'PROPN']\n",
    "    total = sum(tags_dict.values())\n",
    "    return [tags_dict.get(pos, 0)/total if total > 0 else 0 for pos in base]\n",
    "df['vetor'] = df['tags'].apply(vetor_pos)"
   ]
  },
  {
   "cell_type": "code",
   "execution_count": null,
   "id": "da218cb2",
   "metadata": {},
   "outputs": [],
   "source": [
    "def entropia_normalizada(v):\n",
    "    v = np.array(v)\n",
    "    v = v[v > 0]\n",
    "    ent = -np.sum(v * np.log2(v)) if len(v) > 0 else 0\n",
    "    ent_max = np.log2(len(v)) if len(v) > 0 else 1\n",
    "    return ent / ent_max if ent_max > 0 else 0\n",
    "df['icoer'] = df['vetor'].apply(lambda v: round(1 - entropia_normalizada(v), 4))"
   ]
  },
  {
   "cell_type": "code",
   "execution_count": null,
   "id": "39d601fd",
   "metadata": {},
   "outputs": [],
   "source": [
    "media_icoer = df['icoer'].mean().round(4)\n",
    "linha_resumo = {\n",
    "    'frase': 'MÉDIA GERAL',\n",
    "    'n_palavras': df['n_palavras'].mean().round(2),\n",
    "    'tags': {},\n",
    "    'vetor': [],\n",
    "    'icoer': media_icoer\n",
    "}\n",
    "df.loc[len(df)] = linha_resumo"
   ]
  },
  {
   "cell_type": "code",
   "execution_count": null,
   "id": "4f3362ed",
   "metadata": {},
   "outputs": [],
   "source": [
    "df[['frase', 'n_palavras', 'tags', 'icoer']].to_csv(\"icoer_text_analysis_final.csv\", index=False)\n",
    "df"
   ]
  }
 ],
 "metadata": {},
 "nbformat": 4,
 "nbformat_minor": 5
}
