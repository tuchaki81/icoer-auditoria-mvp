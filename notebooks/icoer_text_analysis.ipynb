{
 "cells": [
  {
   "cell_type": "markdown",
   "id": "61bd7e50",
   "metadata": {},
   "source": [
    "# ICOER Text Analysis Notebook\n",
    "Análise de frases com vetorização POS, cálculo da métrica ICOER e exportação CSV."
   ]
  },
  {
   "cell_type": "code",
   "execution_count": null,
   "id": "025fbe98",
   "metadata": {},
   "outputs": [],
   "source": [
    "!pip install -q spacy pandas matplotlib\n",
    "!python -m spacy download pt_core_news_sm"
   ]
  },
  {
   "cell_type": "code",
   "execution_count": null,
   "id": "cf3a2792",
   "metadata": {},
   "outputs": [],
   "source": [
    "import spacy\n",
    "import pandas as pd\n",
    "import matplotlib.pyplot as plt\n",
    "from collections import Counter"
   ]
  },
  {
   "cell_type": "code",
   "execution_count": null,
   "id": "97f8c8cf",
   "metadata": {},
   "outputs": [],
   "source": [
    "# Carregar modelo SpaCy\n",
    "nlp = spacy.load(\"pt_core_news_sm\")"
   ]
  },
  {
   "cell_type": "code",
   "execution_count": null,
   "id": "934e6bfe",
   "metadata": {},
   "outputs": [],
   "source": [
    "# Verificar entrada via widget ou usar lista estática de frases\n",
    "try:\n",
    "    if isinstance(frases, list) and all(isinstance(f, str) for f in frases):\n",
    "        pass  # já está certo\n",
    "    else:\n",
    "        raise ValueError\n",
    "except:\n",
    "    frases = [f.strip() for f in text_input.value.split('.') if f.strip()]\n",
    "frases\n"
   ]
  },
  {
   "cell_type": "code",
   "execution_count": null,
   "id": "fa29edb8",
   "metadata": {},
   "outputs": [],
   "source": [
    "# Análise de tags\n",
    "data = []\n",
    "for frase in frases:\n",
    "    doc = nlp(frase)\n",
    "    tags = [token.pos_ for token in doc]\n",
    "    tag_counts = dict(Counter(tags))\n",
    "    data.append({\n",
    "        \"frase\": frase,\n",
    "        \"n_palavras\": len(doc),\n",
    "        \"tags\": tag_counts\n",
    "    })\n",
    "df = pd.DataFrame(data)\n",
    "df"
   ]
  },
  {
   "cell_type": "code",
   "execution_count": null,
   "id": "fdca456c",
   "metadata": {},
   "outputs": [],
   "source": [
    "# Vetorização POS para cálculo do ICOER (simples: frequência POS normalizada)\n",
    "def vetor_pos(tags_dict):\n",
    "    base = ['NOUN', 'VERB', 'ADJ', 'ADV', 'ADP', 'PROPN']\n",
    "    total = sum(tags_dict.values())\n",
    "    return [tags_dict.get(pos, 0)/total if total > 0 else 0 for pos in base]\n",
    "\n",
    "df['vetor'] = df['tags'].apply(vetor_pos)"
   ]
  },
  {
   "cell_type": "code",
   "execution_count": null,
   "id": "f18ceb7e",
   "metadata": {},
   "outputs": [],
   "source": [
    "# Cálculo do ICOER como 1 - entropia POS (quanto mais uniforme, menor a coerência)\n",
    "import numpy as np\n",
    "\n",
    "def entropia(vetor):\n",
    "    vetor = np.array(vetor)\n",
    "    vetor = vetor[vetor > 0]\n",
    "    return -np.sum(vetor * np.log2(vetor)) if len(vetor) > 0 else 0\n",
    "\n",
    "df['icoer'] = df['vetor'].apply(lambda v: round(1 - entropia(v), 4))\n",
    "df[['frase', 'icoer']]"
   ]
  },
  {
   "cell_type": "code",
   "execution_count": null,
   "id": "ca0de1ad",
   "metadata": {},
   "outputs": [],
   "source": [
    "# Exportação CSV\n",
    "df[['frase', 'n_palavras', 'tags', 'icoer']].to_csv(\"icoer_text_analysis.csv\", index=False)\n",
    "df"
   ]
  }
 ],
 "metadata": {},
 "nbformat": 4,
 "nbformat_minor": 5
}
