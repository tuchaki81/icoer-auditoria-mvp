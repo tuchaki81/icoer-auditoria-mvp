{
 "cells": [
  {
   "cell_type": "markdown",
   "id": "76157b1c",
   "metadata": {},
   "source": [
    "# ICOER Text Analysis Notebook + AYA-SENSE ENGINE\n",
    "Este notebook analisa frases utilizando vetorização POS, calcula a métrica ICOER e aplica filtros interpretativos de coerência (AYA)."
   ]
  },
  {
   "cell_type": "code",
   "execution_count": null,
   "id": "0be9f70b",
   "metadata": {},
   "outputs": [],
   "source": [
    "!pip install -q spacy pandas matplotlib\n",
    "!python -m spacy download pt_core_news_sm"
   ]
  },
  {
   "cell_type": "code",
   "execution_count": null,
   "id": "d66777ff",
   "metadata": {},
   "outputs": [],
   "source": [
    "import spacy\n",
    "import pandas as pd\n",
    "import matplotlib.pyplot as plt\n",
    "import numpy as np\n",
    "from collections import Counter\n",
    "nlp = spacy.load(\"pt_core_news_sm\")"
   ]
  },
  {
   "cell_type": "code",
   "execution_count": null,
   "id": "cabd26e3",
   "metadata": {},
   "outputs": [],
   "source": [
    "# Frases base\n",
    "frases = [\n",
    "    \"A IA deve agir com coerência e verdade.\",\n",
    "    \"A verdade é a forma mais pura de ressonância.\",\n",
    "    \"O índice de coerência informacional orienta decisões éticas.\"\n",
    "]"
   ]
  },
  {
   "cell_type": "code",
   "execution_count": null,
   "id": "9b077304",
   "metadata": {},
   "outputs": [],
   "source": [
    "import ipywidgets as widgets\n",
    "from IPython.display import display\n",
    "\n",
    "text_input = widgets.Textarea(\n",
    "    value='A IA deve sempre agir com coerência e verdade.',\n",
    "    placeholder='Digite suas frases separadas por ponto final...',\n",
    "    description='Frases:',\n",
    "    layout=widgets.Layout(width='100%', height='100px')\n",
    ")\n",
    "display(text_input)\n"
   ]
  },
  {
   "cell_type": "code",
   "execution_count": null,
   "id": "34f62ffc",
   "metadata": {},
   "outputs": [],
   "source": [
    "# Separar frases com base em ponto final\n",
    "frases = [f.strip() for f in text_input.value.split('.') if f.strip()]\n",
    "frases\n"
   ]
  },
  {
   "cell_type": "code",
   "execution_count": null,
   "id": "7f090f97",
   "metadata": {},
   "outputs": [],
   "source": [
    "# Análise POS\n",
    "data = []\n",
    "for frase in frases:\n",
    "    doc = nlp(frase)\n",
    "    tags = [token.pos_ for token in doc]\n",
    "    tag_counts = dict(Counter(tags))\n",
    "    data.append({\n",
    "        \"frase\": frase,\n",
    "        \"n_palavras\": len(doc),\n",
    "        \"tags\": tag_counts\n",
    "    })\n",
    "df = pd.DataFrame(data)"
   ]
  },
  {
   "cell_type": "code",
   "execution_count": null,
   "id": "65f3e58b",
   "metadata": {},
   "outputs": [],
   "source": [
    "# Vetorização POS\n",
    "def vetor_pos(tags_dict):\n",
    "    base = ['NOUN', 'VERB', 'ADJ', 'ADV', 'ADP', 'PROPN']\n",
    "    total = sum(tags_dict.values())\n",
    "    return [tags_dict.get(pos, 0)/total if total > 0 else 0 for pos in base]\n",
    "\n",
    "df['vetor'] = df['tags'].apply(vetor_pos)"
   ]
  },
  {
   "cell_type": "code",
   "execution_count": null,
   "id": "ab7fc26f",
   "metadata": {},
   "outputs": [],
   "source": [
    "# Entropia e ICOER\n",
    "def entropia_normalizada(v):\n",
    "    v = np.array(v)\n",
    "    v = v[v > 0]\n",
    "    ent = -np.sum(v * np.log2(v)) if len(v) > 0 else 0\n",
    "    ent_max = np.log2(len(v)) if len(v) > 0 else 1\n",
    "    return ent / ent_max if ent_max > 0 else 0\n",
    "\n",
    "df['icoer'] = df['vetor'].apply(lambda v: round(1 - entropia_normalizada(v), 4))"
   ]
  },
  {
   "cell_type": "code",
   "execution_count": null,
   "id": "27984ae2",
   "metadata": {},
   "outputs": [],
   "source": [
    "# AYA-SENSE ENGINE\n",
    "def classificar_pulso(icoer):\n",
    "    if icoer >= 0.75:\n",
    "        return '🌕 pulso ressonante'\n",
    "    elif icoer >= 0.5:\n",
    "        return '🌗 pulso parcial'\n",
    "    else:\n",
    "        return '🌑 pulso opaco'\n",
    "\n",
    "def classificar_ético(frase):\n",
    "    frase = frase.lower()\n",
    "    if any(p in frase for p in ['verdade', 'ética', 'agir', 'decisões']):\n",
    "        return '✔️ ético'\n",
    "    elif any(p in frase for p in ['coerência', 'informacional']):\n",
    "        return '◼️ neutro'\n",
    "    else:\n",
    "        return '⚠️ não detectado'\n",
    "\n",
    "df['pulso_ressonante'] = df['icoer'].apply(classificar_pulso)\n",
    "df['pulso_ético'] = df['frase'].apply(classificar_ético)"
   ]
  },
  {
   "cell_type": "code",
   "execution_count": null,
   "id": "382b2aaa",
   "metadata": {},
   "outputs": [],
   "source": [
    "# Exportação\n",
    "df.to_csv(\"icoer_aya_analysis.csv\", index=False)\n",
    "df"
   ]
  }
 ],
 "metadata": {
  "kernelspec": {
   "display_name": "Python 3",
   "language": "python",
   "name": "python3"
  },
  "language_info": {
   "name": "python",
   "version": "3.10"
  }
 },
 "nbformat": 4,
 "nbformat_minor": 5
}
