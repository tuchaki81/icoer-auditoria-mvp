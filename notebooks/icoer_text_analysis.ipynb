{
 "cells": [
  {
   "cell_type": "markdown",
   "id": "6e1d3d37",
   "metadata": {},
   "source": [
    "# ICOER Text Analysis Notebook\n",
    "Análise de frases com vetorização POS, cálculo da métrica ICOER e exportação CSV."
   ]
  },
  {
   "cell_type": "code",
   "execution_count": null,
   "id": "5abb9496",
   "metadata": {},
   "outputs": [],
   "source": [
    "!pip install -q spacy pandas matplotlib ipywidgets\n",
    "!python -m spacy download pt_core_news_sm"
   ]
  },
  {
   "cell_type": "code",
   "execution_count": null,
   "id": "ddf9e9cc",
   "metadata": {},
   "outputs": [],
   "source": [
    "import spacy\n",
    "import pandas as pd\n",
    "import matplotlib.pyplot as plt\n",
    "from collections import Counter\n",
    "import numpy as np"
   ]
  },
  {
   "cell_type": "code",
   "execution_count": null,
   "id": "fd7bd865",
   "metadata": {},
   "outputs": [],
   "source": [
    "nlp = spacy.load(\"pt_core_news_sm\")"
   ]
  },
  {
   "cell_type": "code",
   "execution_count": null,
   "id": "eefc9ea0",
   "metadata": {},
   "outputs": [],
   "source": [
    "import ipywidgets as widgets\n",
    "from IPython.display import display\n",
    "\n",
    "text_input = widgets.Textarea(\n",
    "    value='A IA deve sempre agir com coerência e verdade.',\n",
    "    placeholder='Digite suas frases separadas por ponto final...',\n",
    "    description='Frases:',\n",
    "    layout=widgets.Layout(width='100%', height='100px')\n",
    ")\n",
    "display(text_input)"
   ]
  },
  {
   "cell_type": "code",
   "execution_count": null,
   "id": "bc9619d6",
   "metadata": {},
   "outputs": [],
   "source": [
    "# Separar frases com base em ponto final\n",
    "frases = [f.strip() for f in text_input.value.split('.') if f.strip()]\n",
    "frases"
   ]
  },
  {
   "cell_type": "code",
   "execution_count": null,
   "id": "94c90605",
   "metadata": {},
   "outputs": [],
   "source": [
    "# Análise de tags\n",
    "data = []\n",
    "for frase in frases:\n",
    "    doc = nlp(frase)\n",
    "    tags = [token.pos_ for token in doc]\n",
    "    tag_counts = dict(Counter(tags))\n",
    "    data.append({\n",
    "        \"frase\": frase,\n",
    "        \"n_palavras\": len(doc),\n",
    "        \"tags\": tag_counts\n",
    "    })\n",
    "df = pd.DataFrame(data)\n",
    "df"
   ]
  },
  {
   "cell_type": "code",
   "execution_count": null,
   "id": "81fe9e4d",
   "metadata": {},
   "outputs": [],
   "source": [
    "# Vetorização POS para cálculo do ICOER\n",
    "def vetor_pos(tags_dict):\n",
    "    base = ['NOUN', 'VERB', 'ADJ', 'ADV', 'ADP', 'PROPN']\n",
    "    total = sum(tags_dict.values())\n",
    "    return [tags_dict.get(pos, 0)/total if total > 0 else 0 for pos in base]\n",
    "\n",
    "df['vetor'] = df['tags'].apply(vetor_pos)"
   ]
  },
  {
   "cell_type": "code",
   "execution_count": null,
   "id": "0c21b1b2",
   "metadata": {},
   "outputs": [],
   "source": [
    "# Cálculo corrigido do ICOER com entropia normalizada\n",
    "def entropia(vetor):\n",
    "    vetor = np.array(vetor)\n",
    "    total = np.sum(vetor)\n",
    "    if total == 0:\n",
    "        return 0\n",
    "    vetor = vetor / total  # normalização\n",
    "    vetor = vetor[vetor > 0]\n",
    "    return -np.sum(vetor * np.log2(vetor))\n",
    "\n",
    "df['icoer'] = df['vetor'].apply(lambda v: round(1 - entropia(v), 4))\n",
    "df[['frase', 'icoer']]"
   ]
  },
  {
   "cell_type": "code",
   "execution_count": null,
   "id": "1a864f6d",
   "metadata": {},
   "outputs": [],
   "source": [
    "# Exportação CSV\n",
    "df[['frase', 'n_palavras', 'tags', 'icoer']].to_csv(\"icoer_text_analysis.csv\", index=False)\n",
    "df"
   ]
  }
 ],
 "metadata": {},
 "nbformat": 4,
 "nbformat_minor": 5
}
