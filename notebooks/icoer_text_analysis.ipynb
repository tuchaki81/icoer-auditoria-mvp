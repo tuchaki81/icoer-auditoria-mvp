{
 "cells": [
  {
   "cell_type": "markdown",
   "id": "a53df8d2",
   "metadata": {},
   "source": [
    "# ICOER Narraton Analysis Notebook\n",
    "\n",
    "Análise de frases (narratons) com vetorização POS, cálculo de ICOER e exportação CSV."
   ]
  },
  {
   "cell_type": "code",
   "execution_count": null,
   "id": "92ed1cba",
   "metadata": {},
   "outputs": [],
   "source": [
    "!pip install -q spacy pandas matplotlib ipywidgets\n",
    "!python -m spacy download pt_core_news_sm"
   ]
  },
  {
   "cell_type": "code",
   "execution_count": null,
   "id": "51083d21",
   "metadata": {},
   "outputs": [],
   "source": [
    "import spacy\n",
    "import pandas as pd\n",
    "import numpy as np\n",
    "from collections import Counter\n",
    "import ipywidgets as widgets\n",
    "from IPython.display import display\n",
    "\n",
    "# Carregar modelo SpaCy\n",
    "nlp = spacy.load(\"pt_core_news_sm\")"
   ]
  },
  {
   "cell_type": "code",
   "execution_count": null,
   "id": "834c2571",
   "metadata": {},
   "outputs": [],
   "source": [
    "# Widget de entrada de texto\n",
    "text_input = widgets.Textarea(\n",
    "    value=(\n",
    "        \"A IA deve agir com coerência e verdade. \"\n",
    "        \"A verdade é a forma mais pura de ressonância. \"\n",
    "        \"O índice de coerência informacional orienta decisões éticas.\"\n",
    "    ),\n",
    "    placeholder='Digite suas frases separadas por ponto final...',\n",
    "    description='Frases:',\n",
    "    layout=widgets.Layout(width='100%', height='100px')\n",
    ")\n",
    "display(text_input)"
   ]
  },
  {
   "cell_type": "code",
   "execution_count": null,
   "id": "fbb55a54",
   "metadata": {},
   "outputs": [],
   "source": [
    "# Definições\n",
    "BASE_POS = ['NOUN','VERB','ADJ','ADV','ADP','PROPN']\n",
    "\n",
    "def calcular_icoer(frases):\n",
    "    docs = list(nlp.pipe(frases))\n",
    "    registros = []\n",
    "\n",
    "    for i, doc in enumerate(docs, start=1):\n",
    "        counts = Counter(t.pos_ for t in doc)\n",
    "        total = sum(counts.values())\n",
    "        vetor = [counts.get(pos, 0)/total if total>0 else 0 for pos in BASE_POS]\n",
    "        probs = np.array([v for v in vetor if v>0])\n",
    "        ent = -np.sum(probs * np.log2(probs)) if probs.size else 0\n",
    "        ent_max = np.log2(probs.size) if probs.size else 1\n",
    "        icoer = round(1 - (ent/ent_max if ent_max>0 else 0), 4)\n",
    "        registros.append({\n",
    "            'narraton': i,\n",
    "            'frase': doc.text,\n",
    "            'n_palavras': len(doc),\n",
    "            'tags': dict(counts),\n",
    "            'icoer': icoer\n",
    "        })\n",
    "\n",
    "    df = pd.DataFrame(registros)\n",
    "    # Linha de resumo\n",
    "    resumo = pd.DataFrame([{\n",
    "        'narraton': 0,\n",
    "        'frase': 'MÉDIA GERAL',\n",
    "        'n_palavras': round(df['n_palavras'].mean(), 2),\n",
    "        'tags': {},\n",
    "        'icoer': round(df['icoer'].mean(), 4)\n",
    "    }])\n",
    "    return pd.concat([resumo, df], ignore_index=True)[['narraton','frase','n_palavras','tags','icoer']]"
   ]
  },
  {
   "cell_type": "code",
   "execution_count": null,
   "id": "46f6aa3c",
   "metadata": {},
   "outputs": [],
   "source": [
    "# Executar análise e exportar CSV\n",
    "frases = [s.strip() for s in text_input.value.split('.') if s.strip()]\n",
    "df_result = calcular_icoer(frases)\n",
    "df_result.to_csv(\"icoer_narratons.csv\", index=False)\n",
    "df_result"
   ]
  }
 ],
 "metadata": {},
 "nbformat": 4,
 "nbformat_minor": 5
}
