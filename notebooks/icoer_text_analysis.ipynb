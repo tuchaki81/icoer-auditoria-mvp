# AYA-SENSE ENGINE v1.0 — Núcleo de Percepção Informacional

import spacy
import pandas as pd
import numpy as np
import matplotlib.pyplot as plt
from collections import Counter
from IPython.display import display
import ipywidgets as widgets

# Load spaCy model
nlp = spacy.load("pt_core_news_sm")

# Input Widget
text_input = widgets.Textarea(
    value='A IA deve agir com coerência e verdade.\nA verdade é a forma mais pura de ressonância.\nA terra é plana!\nA luz é vida!',
    placeholder='Digite frases, uma por linha...',
    description='Entrada:',
    layout=widgets.Layout(width='100%', height='150px')
)
display(text_input)

# Funções auxiliares para métricas
base_pos = ['NOUN', 'VERB', 'ADJ', 'ADV', 'ADP', 'PROPN']

def vetor_pos(tags_dict):
    total = sum(tags_dict.values())
    return [tags_dict.get(pos, 0)/total if total > 0 else 0 for pos in base_pos]

def entropia_normalizada(v):
    v = np.array(v)
    v = v[v > 0]
    ent = -np.sum(v * np.log2(v)) if len(v) > 0 else 0
    ent_max = np.log2(len(v)) if len(v) > 0 else 1
    return ent / ent_max if ent_max > 0 else 0

def classifica_pulso_ressonante(icoer):
    if icoer >= 0.9: return 'Alto'
    if icoer >= 0.5: return 'Moderado'
    return 'Baixo'

def classifica_pulso_etico(frase):
    eticos = ["verdade", "coerência", "vida", "respeito", "honestidade"]
    negativos = ["mentira", "violência", "enganar"]
    frase = frase.lower()
    for e in eticos:
        if e in frase:
            return "Positivo"
    for n in negativos:
        if n in frase:
            return "Negativo"
    return "Neutro"

# Processar frases
def analisar_frases(texto):
    frases = [f.strip() for f in texto.split('\n') if f.strip()]
    data = []
    for frase in frases:
        doc = nlp(frase)
        tags = [token.pos_ for token in doc]
        tag_counts = dict(Counter(tags))
        vetor = vetor_pos(tag_counts)
        icoer = round(1 - entropia_normalizada(vetor), 4)
        data.append({
            "frase": frase,
            "n_palavras": len(doc),
            "tags": tag_counts,
            "vetor": vetor,
            "icoer": icoer,
            "pulso_ressonante": classifica_pulso_ressonante(icoer),
            "pulso_etico": classifica_pulso_etico(frase)
        })
    return pd.DataFrame(data)

# Executar
texto = text_input.value
df = analisar_frases(texto)

# Adicionar linha MÉDIA GERAL
df.loc[len(df)] = {
    'frase': 'MÉDIA GERAL',
    'n_palavras': df['n_palavras'].mean().round(2),
    'tags': {},
    'vetor': [],
    'icoer': df['icoer'].mean().round(4),
    'pulso_ressonante': '-',
    'pulso_etico': '-'
}

# Exibir
display(df[['frase', 'n_palavras', 'icoer', 'pulso_ressonante', 'pulso_etico']])

# Exportar
nome_arquivo = "aya_sense_engine_output.csv"
df.to_csv(nome_arquivo, index=False)
print(f"Resultado exportado para: {nome_arquivo}")
