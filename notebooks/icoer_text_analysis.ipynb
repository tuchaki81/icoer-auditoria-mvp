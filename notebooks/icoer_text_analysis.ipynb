{
 "cells": [
  {
   "cell_type": "markdown",
   "id": "43f77cd2",
   "metadata": {},
   "source": [
    "# ICOER MVP — Execução no Google Colab"
   ]
  },
  {
   "cell_type": "code",
   "execution_count": null,
   "id": "c9ab8efd",
   "metadata": {},
   "outputs": [],
   "source": [
    "# ⬇️ Clona repositório, instala dependências e baixa modelo spaCy\n",
    "!git clone https://github.com/tuchaki81/icoer-auditoria-mvp.git\n",
    "%cd icoer-auditoria-mvp\n",
    "!pip install -r requirements.txt\n",
    "!python -m spacy download pt_core_news_sm\n",
    "\n",
    "# Reinicia o ambiente automaticamente\n",
    "import os\n",
    "os.kill(os.getpid(), 9)\n"
   ]
  }
 ],
 "metadata": {},
 "nbformat": 4,
 "nbformat_minor": 5
}
