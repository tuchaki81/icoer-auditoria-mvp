# ⚙️ Instalação limpa e controlada dos pacotes
!pip install -U pip setuptools wheel

# 📌 Instalando pacotes específicos e compatíveis
!pip install numpy==1.24.4
!pip install spacy==3.5.4
!pip install thinc==8.1.12
!pip install -U scikit-learn pandas matplotlib

# (Opcional, caso precise do português para o spaCy)
!python -m spacy download pt_core_news_sm

# 🔁 Reiniciar o ambiente após esta célula
import os
os.kill(os.getpid(), 9)


{
  "cells": [
    {
      "cell_type": "markdown",
      "metadata": {},
      "source": [
        "# ICOER v7 \u2014 Auditoria de LLMs\n",
        "Este notebook executa o pipeline de auditoria usando o \u00cdndice de Coer\u00eancia Informacional."
      ]
    },
    {
      "cell_type": "code",
      "execution_count": null,
      "metadata": {},
      "outputs": [],
      "source": [
        "# Instala\u00e7\u00e3o de depend\u00eancias (se necess\u00e1rio)\n",
        "!pip install -r ../requirements.txt\n",
        "!python -m spacy download pt_core_news_sm"
      ]
    },
    {
      "cell_type": "code",
      "execution_count": null,
      "metadata": {},
      "outputs": [],
      "source": [
        "# Importa\u00e7\u00e3o dos m\u00f3dulos do ICOER\n",
        "from app.ingestion import load_data\n",
        "from app.preprocessing import preprocess\n",
        "from app.compute_icoer import compute_icoer\n",
        "from app.reporting import report_results"
      ]
    },
    {
      "cell_type": "code",
      "execution_count": null,
      "metadata": {},
      "outputs": [],
      "source": [
        "# Caminho do arquivo CSV de entrada\n",
        "input_path = '../data/raw/exemplo_llm.csv'"
      ]
    },
    {
      "cell_type": "code",
      "execution_count": null,
      "metadata": {},
      "outputs": [],
      "source": [
        "# Pipeline principal\n",
        "df = load_data(input_path)\n",
        "df_clean = preprocess(df)\n",
        "df_result = compute_icoer(df_clean)\n",
        "report_results(df_result)"
      ]
    }
  ],
  "metadata": {
    "kernelspec": {
      "display_name": "Python 3",
      "language": "python",
      "name": "python3"
    },
    "language_info": {
      "name": "python",
      "version": "3.11"
    }
  },
  "nbformat": 4,
  "nbformat_minor": 5
}
