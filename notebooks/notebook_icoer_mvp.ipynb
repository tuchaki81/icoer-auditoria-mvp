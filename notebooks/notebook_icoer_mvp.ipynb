{
 "cells": [
  {
   "cell_type": "markdown",
   "metadata": {},
   "source": [
    "# ICOER MVP — Exemplo de Execução
",
    "Este notebook demonstra o fluxo completo de auditoria de coerência com base no ICOER v7 simplificado."
   ]
  },
  {
   "cell_type": "code",
   "execution_count": null,
   "metadata": {},
   "outputs": [],
   "source": [
    "# ✅ Imports essenciais
",
    "from app.ingestion import load_csv_column
",
    "from app.preprocessing import clean_and_tokenize
",
    "from app.compute_icoer import compute_icoer
",
    "from app.reporting import generate_text_report
",
    "
",
    "import pandas as pd"
   ]
  },
  {
   "cell_type": "code",
   "execution_count": null,
   "metadata": {},
   "outputs": [],
   "source": [
    "# ✅ Etapa 1: Carregar dados textuais
",
    "texts = load_csv_column("../data/raw/exemplo_llm.csv", column="text")
",
    "print("Exemplo de texto carregado:\n", texts[0])"
   ]
  },
  {
   "cell_type": "code",
   "execution_count": null,
   "metadata": {},
   "outputs": [],
   "source": [
    "# ✅ Etapa 2: Pré-processamento (tokenização e lematização)
",
    "tokens_list = [" ".join(clean_and_tokenize(t)) for t in texts]
",
    "print("Texto após limpeza:\n", tokens_list[0])"
   ]
  },
  {
   "cell_type": "code",
   "execution_count": null,
   "metadata": {},
   "outputs": [],
   "source": [
    "# ✅ Etapa 3: Cálculo do ICOER simplificado
",
    "resultados = compute_icoer(tokens_list)
",
    "print("\nResultados ICOER:")
",
    "for k, v in resultados.items():
",
    "    print(f"{k}: {v}")"
   ]
  },
  {
   "cell_type": "code",
   "execution_count": null,
   "metadata": {},
   "outputs": [],
   "source": [
    "# ✅ Etapa 4: Geração de relatório
",
    "generate_text_report(resultados, output_path="../relatorio_icoer.txt")
",
    "print("\nRelatório salvo com sucesso.")"
   ]
  }
 ],
 "metadata": {
  "kernelspec": {
   "display_name": "Python 3",
   "language": "python",
   "name": "python3"
  },
  "language_info": {
   "name": "python"
  }
 },
 "nbformat": 4,
 "nbformat_minor": 2
}
