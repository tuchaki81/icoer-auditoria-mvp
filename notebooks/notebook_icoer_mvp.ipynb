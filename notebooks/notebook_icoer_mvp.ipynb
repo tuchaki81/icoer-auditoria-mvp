# 🧠 Configuração de Ambiente - ICOER MVP

# 1. Instalar Pacotes Compatíveis
!pip install -U pip setuptools wheel
!pip install numpy==1.23.5
!pip install spacy==3.5.4
!pip install thinc==8.1.12
!pip install pandas scikit-learn matplotlib
!pip install jax==0.4.20 jaxlib==0.4.20

# 2. (Opcional para português com spaCy)
!python -m spacy download pt_core_news_sm

# 3. Reiniciar o ambiente automaticamente após a instalação
import os
os.kill(os.getpid(), 9)
