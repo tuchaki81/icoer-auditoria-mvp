{
 "cells": [
  {
   "cell_type": "code",
   "execution_count": null,
   "id": "7f38046a",
   "metadata": {},
   "outputs": [],
   "source": [
    "\n",
    "# 📦 Configuração de Ambiente - ICOER MVP\n",
    "\n",
    "## 1. Instalar Pacotes Compatíveis\n",
    "!pip install -U pip setuptools wheel\n",
    "\n",
    "!pip install numpy==1.24.4\n",
    "!pip install spacy==3.5.4\n",
    "!pip install thinc==8.1.12\n",
    "!pip install pandas scikit-learn matplotlib\n",
    "\n",
    "# (Opcional para português com spaCy)\n",
    "!python -m spacy download pt_core_news_sm\n",
    "\n",
    "# 🔁 Reiniciar o ambiente automaticamente após a instalação\n",
    "import os\n",
    "os.kill(os.getpid(), 9)\n"
   ]
  }
 ],
 "metadata": {},
 "nbformat": 4,
 "nbformat_minor": 5
}
