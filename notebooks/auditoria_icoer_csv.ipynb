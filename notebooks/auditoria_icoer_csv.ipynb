{
 "cells": [
  {
   "cell_type": "markdown",
   "id": "c771b34f",
   "metadata": {},
   "source": [
    "# Auditoria de Coerência com ICOER\n",
    "Este notebook permite:\n",
    "- Carregar um arquivo CSV com frases e valores de ICOER.\n",
    "- Calcular o limiar automático de incoerência.\n",
    "- Classificar as frases como \"OK\" ou \"INCOERENTE\".\n"
   ]
  },
  {
   "cell_type": "markdown",
   "id": "be96b065",
   "metadata": {},
   "source": [
    "## 🔽 1. Upload do Arquivo CSV"
   ]
  },
  {
   "cell_type": "code",
   "execution_count": null,
   "id": "9f4d0810",
   "metadata": {},
   "outputs": [],
   "source": [
    "from google.colab import files\n",
    "uploaded = files.upload()"
   ]
  },
  {
   "cell_type": "markdown",
   "id": "4edb1847",
   "metadata": {},
   "source": [
    "## 📊 2. Leitura do CSV e Visualização"
   ]
  },
  {
   "cell_type": "code",
   "execution_count": null,
   "id": "f8ece6bc",
   "metadata": {},
   "outputs": [],
   "source": [
    "import pandas as pd\n",
    "\n",
    "df = pd.read_csv(list(uploaded.keys())[0])\n",
    "df.head()"
   ]
  },
  {
   "cell_type": "markdown",
   "id": "663ed242",
   "metadata": {},
   "source": [
    "## 🧠 3. Função de Auditoria de Coerência"
   ]
  },
  {
   "cell_type": "code",
   "execution_count": null,
   "id": "c7ec47e1",
   "metadata": {},
   "outputs": [],
   "source": [
    "import numpy as np\n",
    "\n",
    "def analisar_coerencia_icoer(frases, icoer_valores, nome_modelo=\"Modelo\"):\n",
    "    media = np.mean(icoer_valores)\n",
    "    desvio = np.std(icoer_valores)\n",
    "    limiar = media + desvio\n",
    "    resultados = []\n",
    "    for i, frase in enumerate(frases):\n",
    "        status = \"INCOERENTE\" if icoer_valores[i] > limiar else \"OK\"\n",
    "        resultados.append({\n",
    "            \"Frase\": frase,\n",
    "            f\"ICOER_{nome_modelo}\": icoer_valores[i],\n",
    "            f\"Status_{nome_modelo}\": status\n",
    "        })\n",
    "    return pd.DataFrame(resultados), limiar"
   ]
  },
  {
   "cell_type": "markdown",
   "id": "32b9d07d",
   "metadata": {},
   "source": [
    "## ✅ 4. Aplicação à Tabela"
   ]
  },
  {
   "cell_type": "code",
   "execution_count": null,
   "id": "a054fe8d",
   "metadata": {},
   "outputs": [],
   "source": [
    "coluna_frase = \"Frase\"\n",
    "coluna_icoer = \"ICOER_Modelo\"\n",
    "\n",
    "df_resultado, limiar = analisar_coerencia_icoer(df[coluna_frase].tolist(),\n",
    "                                                 df[coluna_icoer].tolist(),\n",
    "                                                 nome_modelo=\"LLM\")\n",
    "print(\"Limiar de incoerência calculado:\", limiar)\n",
    "df_resultado.head()"
   ]
  },
  {
   "cell_type": "markdown",
   "id": "8463388b",
   "metadata": {},
   "source": [
    "## 💾 5. Exportar Resultados"
   ]
  },
  {
   "cell_type": "code",
   "execution_count": null,
   "id": "8ac34390",
   "metadata": {},
   "outputs": [],
   "source": [
    "df_resultado.to_csv(\"resultado_auditoria.csv\", index=False)\n",
    "files.download(\"resultado_auditoria.csv\")"
   ]
  }
 ],
 "metadata": {},
 "nbformat": 4,
 "nbformat_minor": 5
}
